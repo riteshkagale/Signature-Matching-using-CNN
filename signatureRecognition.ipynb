{
  "nbformat": 4,
  "nbformat_minor": 0,
  "metadata": {
    "colab": {
      "name": "signatureRecognition.ipynb",
      "provenance": [],
      "collapsed_sections": []
    },
    "kernelspec": {
      "name": "python3",
      "display_name": "Python 3"
    }
  },
  "cells": [
    {
      "cell_type": "code",
      "metadata": {
        "id": "jEX4A-W-IVrF"
      },
      "source": [
        "import os\n",
        "import numpy as np\n",
        "import pandas as pd\n",
        "from sklearn.model_selection import train_test_split\n",
        "from sklearn.preprocessing import LabelEncoder\n",
        "from sklearn.metrics import log_loss"
      ],
      "execution_count": 1,
      "outputs": []
    },
    {
      "cell_type": "code",
      "metadata": {
        "id": "x1KoOUaCAivo"
      },
      "source": [
        "import keras\n",
        "\n",
        "from keras.models import Sequential\n",
        "from keras.layers import Dense, Dropout, Flatten\n",
        "from keras.layers import Conv2D, MaxPooling2D, ZeroPadding2D\n",
        "from keras.callbacks import EarlyStopping\n",
        "from keras.utils import np_utils\n",
        "from keras.optimizers import RMSprop, Adam\n",
        "from keras import backend as K"
      ],
      "execution_count": 2,
      "outputs": []
    },
    {
      "cell_type": "code",
      "metadata": {
        "id": "4IwexMHflntb"
      },
      "source": [
        "ROWS = 64 \n",
        "COLS = 64\n",
        "CHANNELS = 3"
      ],
      "execution_count": 3,
      "outputs": []
    },
    {
      "cell_type": "code",
      "metadata": {
        "id": "NAkjfskFlyuW"
      },
      "source": [
        "TRAIN_DIR=\"/content/drive/MyDrive/Colab Notebooks/Signature_Recognition_DeepLearning-master/newData/train/\"\n",
        "\n",
        "TEST_DIR='/content/drive/MyDrive/Colab Notebooks/Signature_Recognition_DeepLearning-master/newData/test/'"
      ],
      "execution_count": 4,
      "outputs": []
    },
    {
      "cell_type": "code",
      "metadata": {
        "id": "cI9xyZSmmKZZ"
      },
      "source": [
        "def get_images(fish):\n",
        "    \"\"\"Load files from train folder\"\"\"\n",
        "    fish_dir = TRAIN_DIR+'{}'.format(fish)\n",
        "    images = [fish+'/'+im for im in os.listdir(fish_dir)]\n",
        "    return images"
      ],
      "execution_count": 5,
      "outputs": []
    },
    {
      "cell_type": "code",
      "metadata": {
        "id": "f0mJ2cpMmesU"
      },
      "source": [
        "SIGNATURE_CLASSES = ['A', 'B', 'C','D','E']"
      ],
      "execution_count": 6,
      "outputs": []
    },
    {
      "cell_type": "code",
      "metadata": {
        "colab": {
          "base_uri": "https://localhost:8080/"
        },
        "id": "ooc9xvxCmbto",
        "outputId": "e1db6ed7-9a4d-4bb7-cfcb-ce0389383291"
      },
      "source": [
        "files = []\n",
        "y_all = []\n",
        "\n",
        "for fish in SIGNATURE_CLASSES:\n",
        "    fish_files = get_images(fish)\n",
        "    files.extend(fish_files)\n",
        "    \n",
        "    y_fish = np.tile(fish, len(fish_files))\n",
        "    y_all.extend(y_fish)\n",
        "    print(\"{0} photos of {1}\".format(len(fish_files), fish))\n",
        "    \n",
        "y_all = np.array(y_all)\n"
      ],
      "execution_count": 7,
      "outputs": [
        {
          "output_type": "stream",
          "text": [
            "5 photos of A\n",
            "5 photos of B\n",
            "4 photos of C\n",
            "2 photos of D\n",
            "2 photos of E\n"
          ],
          "name": "stdout"
        }
      ]
    },
    {
      "cell_type": "code",
      "metadata": {
        "colab": {
          "base_uri": "https://localhost:8080/"
        },
        "id": "je2mSsY4mzxi",
        "outputId": "6e70d7aa-2fbe-4986-cef5-d3661bd8a5bc"
      },
      "source": [
        "print(len(files))\n",
        "print(len(y_all))"
      ],
      "execution_count": 8,
      "outputs": [
        {
          "output_type": "stream",
          "text": [
            "18\n",
            "18\n"
          ],
          "name": "stdout"
        }
      ]
    },
    {
      "cell_type": "code",
      "metadata": {
        "id": "abOk3y4FJFoD"
      },
      "source": [
        "import cv2\n",
        "def read_image(src):\n",
        "    filepath=src\n",
        "    im = cv2.imread(filepath)\n",
        "\n",
        "    return cv2.resize(im,(ROWS,COLS))"
      ],
      "execution_count": 9,
      "outputs": []
    },
    {
      "cell_type": "code",
      "metadata": {
        "colab": {
          "base_uri": "https://localhost:8080/"
        },
        "id": "hMIgPWstm5tb",
        "outputId": "3df6687b-afd5-4554-ca2f-b11aeb23d1d6"
      },
      "source": [
        "X_all = np.ndarray((len(files), ROWS, COLS, CHANNELS), dtype=np.uint8)\n",
        "\n",
        "for i, im in enumerate(files): \n",
        "    X_all[i] = read_image(TRAIN_DIR+im)\n",
        "    if i%1000 == 0: print('Processed {} of {}'.format(i, len(files)))\n",
        "\n",
        "print(X_all.shape)\n",
        "# One Hot Encoding Labels\n",
        "y_all = LabelEncoder().fit_transform(y_all)\n",
        "y_all = np_utils.to_categorical(y_all)"
      ],
      "execution_count": 10,
      "outputs": [
        {
          "output_type": "stream",
          "text": [
            "Processed 0 of 18\n",
            "(18, 64, 64, 3)\n"
          ],
          "name": "stdout"
        }
      ]
    },
    {
      "cell_type": "code",
      "metadata": {
        "id": "wB3Qof4unRlt"
      },
      "source": [
        "X_train, X_valid, y_train, y_valid = train_test_split(X_all, y_all, test_size=0.1, random_state=0)"
      ],
      "execution_count": 11,
      "outputs": []
    },
    {
      "cell_type": "code",
      "metadata": {
        "id": "PNCvdPuFngOF"
      },
      "source": [
        "#Initialize the model\n",
        "model = Sequential()\n",
        "\n",
        "model.add(Conv2D(32, kernel_size=(3, 3), activation='relu', input_shape=(ROWS, COLS, CHANNELS)))\n",
        "model.add(Conv2D(32, (3, 3), activation='relu'))\n",
        "model.add(ZeroPadding2D(padding=(1, 1)))\n",
        "model.add(MaxPooling2D(pool_size=(2, 2), strides=(2,2)))\n",
        "model.add(Dropout(0.25))\n",
        "\n",
        "model.add(Conv2D(64, kernel_size=(3, 3), activation='relu'))\n",
        "model.add(Conv2D(64, (3, 3), activation='relu'))\n",
        "model.add(ZeroPadding2D(padding=(1, 1)))\n",
        "model.add(MaxPooling2D(pool_size=(2, 2), strides=(2,2)))\n",
        "model.add(Dropout(0.25))\n",
        "\n",
        "model.add(Conv2D(96, kernel_size=(3, 3), activation='relu'))\n",
        "model.add(Conv2D(96, (3, 3), activation='relu'))\n",
        "model.add(ZeroPadding2D(padding=(1, 1)))\n",
        "model.add(MaxPooling2D(pool_size=(2, 2), strides=(2,2)))\n",
        "model.add(Dropout(0.25))\n",
        "\n",
        "model.add(Conv2D(128, kernel_size=(3, 3), activation='relu'))\n",
        "model.add(Conv2D(128, (3, 3), activation='relu'))\n",
        "model.add(ZeroPadding2D(padding=(1, 1)))\n",
        "model.add(MaxPooling2D(pool_size=(2, 2), strides=(2,2)))\n",
        "model.add(Dropout(0.25))\n",
        "\n",
        "model.add(Flatten())\n",
        "\n",
        "model.add(Dense(1028, activation='relu'))\n",
        "model.add(Dropout(0.5))\n",
        "\n",
        "model.add(Dense(512, activation='relu'))\n",
        "model.add(Dropout(0.5))\n",
        "\n",
        "model.add(Dense(128, activation='relu'))\n",
        "model.add(Dropout(0.5))"
      ],
      "execution_count": 12,
      "outputs": []
    },
    {
      "cell_type": "code",
      "metadata": {
        "id": "GRcTpAiQLkP8"
      },
      "source": [
        "model.add(Dense(len(SIGNATURE_CLASSES), activation='softmax'))\n",
        "# model.add(Dense(len(SIGNATURE_CLASSES), activation='sigmoid'))"
      ],
      "execution_count": 13,
      "outputs": []
    },
    {
      "cell_type": "code",
      "metadata": {
        "id": "Kk6cS_DlpT2M"
      },
      "source": [
        "model.compile(optimizer='adam', loss='categorical_crossentropy')\n",
        "# adam = Adam(lr=0.0001)\n",
        "# model.compile(optimizer=adam, loss=root_mean_squared_error)"
      ],
      "execution_count": 14,
      "outputs": []
    },
    {
      "cell_type": "code",
      "metadata": {
        "id": "JkCJ4ykrpX4p"
      },
      "source": [
        "early_stopping = EarlyStopping(monitor='val_loss', patience=4, verbose=1, mode='auto') "
      ],
      "execution_count": 15,
      "outputs": []
    },
    {
      "cell_type": "code",
      "metadata": {
        "colab": {
          "base_uri": "https://localhost:8080/"
        },
        "id": "v63S_PZPpfoK",
        "outputId": "3672cde0-a61c-48f8-9ff5-28e3884f4ff3"
      },
      "source": [
        "model.fit(X_train, y_train, batch_size=64, epochs=25, validation_split=0.1, verbose=1, shuffle=True, callbacks=[early_stopping])"
      ],
      "execution_count": 16,
      "outputs": [
        {
          "output_type": "stream",
          "text": [
            "Epoch 1/25\n",
            "1/1 [==============================] - 0s 288ms/step - loss: 16.2274 - val_loss: 1.9678\n",
            "Epoch 2/25\n",
            "1/1 [==============================] - 0s 37ms/step - loss: 6.4169 - val_loss: 1.7828\n",
            "Epoch 3/25\n",
            "1/1 [==============================] - 0s 46ms/step - loss: 3.2397 - val_loss: 1.7149\n",
            "Epoch 4/25\n",
            "1/1 [==============================] - 0s 32ms/step - loss: 2.1391 - val_loss: 1.6784\n",
            "Epoch 5/25\n",
            "1/1 [==============================] - 0s 37ms/step - loss: 1.7821 - val_loss: 1.6620\n",
            "Epoch 6/25\n",
            "1/1 [==============================] - 0s 41ms/step - loss: 2.1730 - val_loss: 1.6757\n",
            "Epoch 7/25\n",
            "1/1 [==============================] - 0s 39ms/step - loss: 2.0516 - val_loss: 1.6825\n",
            "Epoch 8/25\n",
            "1/1 [==============================] - 0s 38ms/step - loss: 1.9556 - val_loss: 1.6884\n",
            "Epoch 9/25\n",
            "1/1 [==============================] - 0s 43ms/step - loss: 1.7365 - val_loss: 1.6809\n",
            "Epoch 00009: early stopping\n"
          ],
          "name": "stdout"
        },
        {
          "output_type": "execute_result",
          "data": {
            "text/plain": [
              "<tensorflow.python.keras.callbacks.History at 0x7ff7de86a518>"
            ]
          },
          "metadata": {
            "tags": []
          },
          "execution_count": 16
        }
      ]
    },
    {
      "cell_type": "code",
      "metadata": {
        "colab": {
          "base_uri": "https://localhost:8080/"
        },
        "id": "JQuRULEXppUB",
        "outputId": "ecc55399-4c1b-4a4b-9c29-3add3aac09b3"
      },
      "source": [
        "from sklearn.metrics import log_loss\n",
        "preds = model.predict(X_valid)\n",
        "print(\"Validation Log Loss: {}\".format(log_loss(y_valid, preds)))"
      ],
      "execution_count": 17,
      "outputs": [
        {
          "output_type": "stream",
          "text": [
            "Validation Log Loss: 1.5140101313591003\n"
          ],
          "name": "stdout"
        }
      ]
    },
    {
      "cell_type": "code",
      "metadata": {
        "id": "5uhOWpcypsoy",
        "colab": {
          "base_uri": "https://localhost:8080/",
          "height": 111
        },
        "outputId": "efbd19ce-a961-448f-dbb5-d626540f8099"
      },
      "source": [
        "test_files = [im for im in os.listdir(TEST_DIR)]\n",
        "test = np.ndarray((len(test_files), ROWS, COLS, CHANNELS), dtype=np.uint8)\n",
        "\n",
        "for i, im in enumerate(test_files): \n",
        "    test[i] = read_image(TEST_DIR+im)\n",
        "    \n",
        "test_preds = model.predict(test)\n",
        "submission = pd.DataFrame(test_preds, columns=SIGNATURE_CLASSES)\n",
        "submission.insert(0, 'image', test_files)\n",
        "submission.head()"
      ],
      "execution_count": 18,
      "outputs": [
        {
          "output_type": "execute_result",
          "data": {
            "text/html": [
              "<div>\n",
              "<style scoped>\n",
              "    .dataframe tbody tr th:only-of-type {\n",
              "        vertical-align: middle;\n",
              "    }\n",
              "\n",
              "    .dataframe tbody tr th {\n",
              "        vertical-align: top;\n",
              "    }\n",
              "\n",
              "    .dataframe thead th {\n",
              "        text-align: right;\n",
              "    }\n",
              "</style>\n",
              "<table border=\"1\" class=\"dataframe\">\n",
              "  <thead>\n",
              "    <tr style=\"text-align: right;\">\n",
              "      <th></th>\n",
              "      <th>image</th>\n",
              "      <th>A</th>\n",
              "      <th>B</th>\n",
              "      <th>C</th>\n",
              "      <th>D</th>\n",
              "      <th>E</th>\n",
              "    </tr>\n",
              "  </thead>\n",
              "  <tbody>\n",
              "    <tr>\n",
              "      <th>0</th>\n",
              "      <td>1.png</td>\n",
              "      <td>0.221390</td>\n",
              "      <td>0.216408</td>\n",
              "      <td>0.199678</td>\n",
              "      <td>0.183331</td>\n",
              "      <td>0.179192</td>\n",
              "    </tr>\n",
              "    <tr>\n",
              "      <th>1</th>\n",
              "      <td>2.png</td>\n",
              "      <td>0.220238</td>\n",
              "      <td>0.214072</td>\n",
              "      <td>0.201035</td>\n",
              "      <td>0.183614</td>\n",
              "      <td>0.181042</td>\n",
              "    </tr>\n",
              "  </tbody>\n",
              "</table>\n",
              "</div>"
            ],
            "text/plain": [
              "   image         A         B         C         D         E\n",
              "0  1.png  0.221390  0.216408  0.199678  0.183331  0.179192\n",
              "1  2.png  0.220238  0.214072  0.201035  0.183614  0.181042"
            ]
          },
          "metadata": {
            "tags": []
          },
          "execution_count": 18
        }
      ]
    }
  ]
}